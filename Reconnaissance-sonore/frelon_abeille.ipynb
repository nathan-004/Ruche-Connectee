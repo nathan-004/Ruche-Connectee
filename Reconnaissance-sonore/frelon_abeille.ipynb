# %% [markdown]
# # Reconnaissance du son d'un frelon

# %% [markdown]
# ### Découpage de la vidéo
# 
# Découpage de la vidéo https://www.youtube.com/watch?v=WW2pslED0v8 pour savoir si l'on entend un frelon ou pas.

# %% [markdown]
# `Tests` contient les intervalles de temps où un frelon est présent dans les 3 premières minutes de la vidéo. Sous forme :
# ```python
# dict = {
#     (début en chaine de caractères, fin): True si Il y a un frelon, False si il y a des abeilles
# }
# ```

# %%
# Import les valeurs de tests
from tests import Tests

Tests.abeilles_frelons

# %% [markdown]
# ### Observation des sons
# 
# Utilisation de la bibliothèque `wave` pour afficher les sons.  
# https://docs.scipy.org/doc/scipy/reference/generated/scipy.io.wavfile.read.html#scipy.io.wavfile.read

# %%
from scipy.io import wavfile
import matplotlib.pyplot as plt
import numpy as np

# Charger le fichier audio WAV
FILE = "echantillons/abeilles_frelons.wav"

def signal(times):
    """
    Retourne le signal

    Parametres
    ----------
    times:tuple
        Tuple sous forme de (nombre de seconde départ, nombre de seconde fin)
    """
    FILE_NAME = FILE

    samplerate, data = wavfile.read(FILE_NAME)
    print(f"number of channels = {data.shape[1]}")

    length = data.shape[0] / samplerate
    print(f"length = {length}s")

    return (data, length, samplerate)

def plot():
    FILE_NAME = FILE

    data, length, samplerate = signal(" ")
    time = np.linspace(0., length, data.shape[0])

    plt.plot(time, data[:, 0], label="Left channel")
    plt.plot(time, data[:, 1], label="Right channel")
    plt.legend()
    plt.xlabel("Time [s]")
    plt.ylabel("Amplitude")
    plt.show()

plot()




